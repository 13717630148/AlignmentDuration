{
 "metadata": {
  "name": "",
  "signature": "sha256:e1e5e361e2de52a4c9427b19034dd060f0cd35aa64e425bf0a215682e4e49629"
 },
 "nbformat": 3,
 "nbformat_minor": 0,
 "worksheets": [
  {
   "cells": [
    {
     "cell_type": "code",
     "collapsed": false,
     "input": [
      "worketadataFolder = '/Users/joro/Downloads/turkish_makam_corpus_stats/data/WorkMetadata/'\n",
      "import os\n",
      "import glob\n",
      "import json\n",
      "os.chdir(worketadataFolder)\n",
      "workMetadataFiles = glob.glob(\"*.json\")\n",
      "\n",
      "recordingsList = []\n",
      "for workMetadataFile in workMetadataFiles:\n",
      "    with open(workMetadataFile) as f:\n",
      "        workMetadata = json.load(f)\n",
      "        if len(workMetadata['recordings']) == 0:\n",
      "            continue\n",
      "        \n",
      "        form = workMetadata['form']\n",
      "        if 'mb_attribute' not in form:\n",
      "            continue\n",
      "        if form['mb_attribute'] != u'\u015eark\u0131':\n",
      "            continue\n",
      "            \n",
      "        scores = workMetadata['scores']\n",
      "        if len(scores) != 1:\n",
      "            continue\n",
      "        for rec in workMetadata['recordings']:\n",
      "            recordingsList.append(rec['mbid'])\n",
      "\n",
      "\n",
      "with open('/Users/joro/Documents/Phd/UPF/voxforge/myScripts/AlignmentDuration/scripts/recordingsSarkiList', 'w') as fout:\n",
      "    json.dump(recordingsList, fout)\n",
      "        \n",
      "        \n",
      "\n",
      "               "
     ],
     "language": "python",
     "metadata": {},
     "outputs": [],
     "prompt_number": 18
    },
    {
     "cell_type": "code",
     "collapsed": false,
     "input": [],
     "language": "python",
     "metadata": {},
     "outputs": []
    }
   ],
   "metadata": {}
  }
 ]
}